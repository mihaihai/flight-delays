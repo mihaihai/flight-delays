{
 "cells": [
  {
   "cell_type": "markdown",
   "metadata": {},
   "source": [
    "# Overview\n",
    "\n",
    "**1. Cleaning the data** \n",
    "- 1.1 Dates and times\n",
    "- 1.2 Filling factor\n",
    "\n",
    "**2. Exploring the data**\n",
    "- 2.1 Basic statistical description of airlines\n",
    "- 2.2 Delays distribution: establishing the ranking of airlines \n",
    "- 3. Delays: take-off or landing ?** <br>\n",
    "- 4.  Relation between the origin airport and delays** <br>\n",
    "- 4.1 Geographical area covered by airlines  <br>\n",
    "- 4.2 How the origin airport impact delays <br>\n",
    "- 4.3 Flights with usual delays ? <br>\n",
    "- 5. Temporal variability of delays** <br>\n",
    "\n",
    "**3. Predicting delay times** <br>\n",
    "- 6.1 Model nº1: one airline, one airport \n",
    "  * 6.1.1 Pitfalls\n",
    "  * 6.1.2 Polynomial degree: splitting the dataset\n",
    "  * 6.1.3 Model test: prediction of end-January delays\n",
    "- 6.2 Model nº2: one airline, all airports\n",
    "  * 6.2.1 Linear regression  \n",
    "  * 6.2.2 Polynomial regression\n",
    "  * 6.2.3 Setting the free parameters\n",
    "  * 6.2.4 Model test: prediction of end-January delays\n",
    "- 6.3 Model nº3: Accounting for destinations\n",
    "   * 6.3.1 Choice of the free parameters\n",
    "   * 6.3.2 Model test: prediction of end-January delays \n",
    "   \n",
    "**Conclusion**"
   ]
  },
  {
   "cell_type": "markdown",
   "metadata": {},
   "source": [
    "# Setup"
   ]
  },
  {
   "cell_type": "markdown",
   "metadata": {},
   "source": [
    "Import the libraries and set up plotting settings."
   ]
  },
  {
   "cell_type": "code",
   "execution_count": 1,
   "metadata": {},
   "outputs": [
    {
     "name": "stderr",
     "output_type": "stream",
     "text": [
      "/Users/mihai/.pyenv/versions/3.7.5/envs/flight_data_3.7.5/lib/python3.7/site-packages/pandas/compat/__init__.py:85: UserWarning: Could not import the lzma module. Your installed Python is incomplete. Attempting to use lzma compression will result in a RuntimeError.\n",
      "  warnings.warn(msg)\n",
      "/Users/mihai/.pyenv/versions/3.7.5/envs/flight_data_3.7.5/lib/python3.7/site-packages/pandas/compat/__init__.py:85: UserWarning: Could not import the lzma module. Your installed Python is incomplete. Attempting to use lzma compression will result in a RuntimeError.\n",
      "  warnings.warn(msg)\n"
     ]
    }
   ],
   "source": [
    "import datetime, warnings, scipy \n",
    "import pandas as pd\n",
    "import numpy as np\n",
    "import seaborn as sns\n",
    "import matplotlib as mpl\n",
    "import matplotlib.pyplot as plt\n",
    "from sklearn import metrics, linear_model\n",
    "from sklearn.preprocessing import PolynomialFeatures, StandardScaler\n",
    "from sklearn.preprocessing import LabelEncoder, OneHotEncoder\n",
    "from sklearn.model_selection import train_test_split, cross_val_score, cross_val_predict\n",
    "\n",
    "pd.options.display.max_columns = 50\n",
    "%matplotlib inline\n",
    "warnings.filterwarnings(\"ignore\")"
   ]
  },
  {
   "cell_type": "markdown",
   "metadata": {},
   "source": [
    "Import the data."
   ]
  },
  {
   "cell_type": "code",
   "execution_count": 214,
   "metadata": {},
   "outputs": [],
   "source": [
    "airlines = pd.read_csv('./data/airlines.csv')\n",
    "airports = pd.read_csv('./data/airports.csv')\n",
    "flights = pd.read_csv('./data/flights.csv')\n",
    "weather = pd.read_csv('./data/weather.csv')"
   ]
  },
  {
   "cell_type": "markdown",
   "metadata": {},
   "source": [
    "# 1 Cleaning the data"
   ]
  },
  {
   "cell_type": "code",
   "execution_count": 215,
   "metadata": {},
   "outputs": [],
   "source": [
    "def describe_dataframe(df):\n",
    "    print('Table dimensions:', df.shape)\n",
    "    \n",
    "    df.iloc[0:0]\n",
    "    df_info=pd.DataFrame(df.dtypes).T.rename(index={0:'data_type'})\n",
    "    df_info=df_info.append(pd.DataFrame(df.isnull().sum()).T.rename(index={0:'#_null_values'}))\n",
    "    df_info=df_info.append(pd.DataFrame(df.isnull().sum()/df.shape[0]*100)\n",
    "                         .T.rename(index={0:'%_null_values'}))\n",
    "    \n",
    "    print('\\n')\n",
    "    print(df.head())\n",
    "    print('\\n')\n",
    "    print(df_info.head())"
   ]
  },
  {
   "cell_type": "code",
   "execution_count": 102,
   "metadata": {},
   "outputs": [
    {
     "name": "stdout",
     "output_type": "stream",
     "text": [
      "Table dimensions: (16, 2)\n",
      "\n",
      "\n",
      "  carrier                    name\n",
      "0      9E       Endeavor Air Inc.\n",
      "1      AA  American Airlines Inc.\n",
      "2      AS    Alaska Airlines Inc.\n",
      "3      B6         JetBlue Airways\n",
      "4      DL    Delta Air Lines Inc.\n",
      "\n",
      "\n",
      "              carrier    name\n",
      "data_type      object  object\n",
      "#_null_values       0       0\n",
      "%_null_values       0       0\n"
     ]
    }
   ],
   "source": [
    "describe_dataframe(airlines)"
   ]
  },
  {
   "cell_type": "code",
   "execution_count": 152,
   "metadata": {},
   "outputs": [
    {
     "name": "stdout",
     "output_type": "stream",
     "text": [
      "Table dimensions: (1458, 8)\n",
      "\n",
      "\n",
      "   FAA                           name   latitude  longitude  altitude  UTC  \\\n",
      "0  04G              Lansdowne Airport  41.130472 -80.619583      1044   -5   \n",
      "1  06A  Moton Field Municipal Airport  32.460572 -85.680028       264   -6   \n",
      "2  06C            Schaumburg Regional  41.989341 -88.101243       801   -6   \n",
      "3  06N                Randall Airport  41.431912 -74.391561       523   -5   \n",
      "4  09J          Jekyll Island Airport  31.074472 -81.427778        11   -5   \n",
      "\n",
      "               DST          timezone  \n",
      "0  US standard DST  America/New_York  \n",
      "1  US standard DST   America/Chicago  \n",
      "2  US standard DST   America/Chicago  \n",
      "3  US standard DST  America/New_York  \n",
      "4  US standard DST  America/New_York  \n",
      "\n",
      "\n",
      "                  FAA    name latitude longitude altitude    UTC     DST  \\\n",
      "data_type      object  object  float64   float64    int64  int64  object   \n",
      "#_null_values       0       0        0         0        0      0       0   \n",
      "%_null_values       0       0        0         0        0      0       0   \n",
      "\n",
      "              timezone  \n",
      "data_type       object  \n",
      "#_null_values        0  \n",
      "%_null_values        0  \n"
     ]
    }
   ],
   "source": [
    "describe_dataframe(airports)"
   ]
  },
  {
   "cell_type": "code",
   "execution_count": 173,
   "metadata": {},
   "outputs": [
    {
     "name": "stdout",
     "output_type": "stream",
     "text": [
      "Table dimensions: (328063, 12)\n",
      "\n",
      "\n",
      "   year  month  day  departure  scheduled_departure  arrival  \\\n",
      "0  2013      1    1        517                  515      830   \n",
      "1  2013      1    1        533                  529      850   \n",
      "2  2013      1    1        542                  540      923   \n",
      "3  2013      1    1        544                  545     1004   \n",
      "4  2013      1    1        554                  600      812   \n",
      "\n",
      "   scheduled_arrival carrier  flight_id origin destination  distance  \n",
      "0                819      UA       1545    EWR         IAH      1400  \n",
      "1                830      UA       1714    LGA         IAH      1416  \n",
      "2                850      AA       1141    JFK         MIA      1089  \n",
      "3               1022      B6        725    JFK         BQN      1576  \n",
      "4                837      DL        461    LGA         ATL       762  \n",
      "\n",
      "\n",
      "                year  month    day departure scheduled_departure arrival  \\\n",
      "data_type      int64  int64  int64     int64               int64   int64   \n",
      "#_null_values      0      0      0         0                   0       0   \n",
      "%_null_values      0      0      0         0                   0       0   \n",
      "\n",
      "              scheduled_arrival carrier flight_id  origin destination distance  \n",
      "data_type                 int64  object     int64  object      object    int64  \n",
      "#_null_values                 0       0         0       0           0        0  \n",
      "%_null_values                 0       0         0       0           0        0  \n",
      "\n",
      "\n",
      "The airport codes {'SJU', 'ERW', 'PSE', 'BQN', 'STT'} do not exist in the airports table.\n"
     ]
    }
   ],
   "source": [
    "describe_dataframe(flights)\n",
    "print('\\n')\n",
    "print('The airport codes', (set(flights['origin']) | set(flights['destination'])) - set(airports['FAA']), 'do not exist in the airports table.')"
   ]
  },
  {
   "cell_type": "code",
   "execution_count": 200,
   "metadata": {},
   "outputs": [
    {
     "name": "stdout",
     "output_type": "stream",
     "text": [
      "Weather data is from: {'JFK', 'LGA', 'EWR'}\n",
      "\n",
      "\n",
      "Table dimensions: (26115, 14)\n",
      "\n",
      "\n",
      "  origin  year  month  day  hour  temperature  dewpoint  humidity  \\\n",
      "0    EWR  2013      1    1     1        39.02     26.06     59.37   \n",
      "1    EWR  2013      1    1     2        39.02     26.96     61.63   \n",
      "2    EWR  2013      1    1     3        39.02     28.04     64.43   \n",
      "3    EWR  2013      1    1     4        39.92     28.04     62.21   \n",
      "4    EWR  2013      1    1     5        39.02     28.04     64.43   \n",
      "\n",
      "   wind_direction  wind_speed  wind_gust  precipitation  pressure  visibility  \n",
      "0           270.0    10.35702        NaN            0.0    1012.0        10.0  \n",
      "1           250.0     8.05546        NaN            0.0    1012.3        10.0  \n",
      "2           240.0    11.50780        NaN            0.0    1012.5        10.0  \n",
      "3           250.0    12.65858        NaN            0.0    1012.2        10.0  \n",
      "4           260.0    12.65858        NaN            0.0    1011.9        10.0  \n",
      "\n",
      "\n",
      "               origin   year  month    day   hour temperature    dewpoint  \\\n",
      "data_type      object  int64  int64  int64  int64     float64     float64   \n",
      "#_null_values       0      0      0      0      0           1           1   \n",
      "%_null_values       0      0      0      0      0  0.00382922  0.00382922   \n",
      "\n",
      "                 humidity wind_direction wind_speed wind_gust precipitation  \\\n",
      "data_type         float64        float64    float64   float64       float64   \n",
      "#_null_values           1            460          4     20778             0   \n",
      "%_null_values  0.00382922        1.76144  0.0153169   79.5635             0   \n",
      "\n",
      "              pressure visibility  \n",
      "data_type      float64    float64  \n",
      "#_null_values     2729          0  \n",
      "%_null_values  10.4499          0  \n",
      "\n",
      "\n",
      "Under 500m visibility happened for 195 hours.\n",
      "Under 100m visibility happened for 16 hours.\n"
     ]
    }
   ],
   "source": [
    "print(\"Weather data is from:\", set(weather['origin']))\n",
    "print('\\n')\n",
    "describe_dataframe(weather)\n",
    "\n",
    "print('\\n')\n",
    "print('Under 500m visibility happened for', sum(weather['visibility']<0.5), 'hours.')\n",
    "print('Under 100m visibility happened for', sum(weather['visibility']<0.1), 'hours.')"
   ]
  },
  {
   "cell_type": "markdown",
   "metadata": {},
   "source": [
    "## First look at databases\n",
    "\n",
    "1. Airlines:\n",
    "    - could replace the carrier in the flights table with the name of the airline for clearer representation.\n",
    "\n",
    "\n",
    "2. Airports: \n",
    "    - will add lat_origin, long_origin, alt_origin, lat_destination, long_destination, alt_destination to flights table as they will become relevant for plotting on the map and the checking whether altitude plays a role in correlation with weather (e.g. a flight might be delayed because the destination is in the mountains (instable weather) and landing is impossible.) \n",
    "    - UTC, timezone are irrelevant as the timezone difference information is contained in the arrival and departure times.\n",
    "    - name is relevant later for plotting\n",
    "\n",
    "\n",
    "3. Flights: \n",
    "    - Type of departure/arrival is float64, while type of scheduled_departure/scheduled_arrival is int64. Will convert the former to int64.\n",
    "    - Will add column hour to be able to join with the Weather table.\n",
    "    - The codes {'SJU', 'ERW', 'PSE', 'BQN', 'STT'} do not correspond to any airports in the airports table. All except for 'ERW' are real airports, 'ERW' is probably just a typo of 'EWR' and I will change it accordingly. \n",
    "    - Add lat_origin, long_origin, alt_origin, lat_destination, long_destination, alt_destination columns with information from Airports.\n",
    "    - 8255 flights have no departure times and 8713 have no arrival times (around 2.5% each) and will drop this data from the table as it will cause problems when computing delays.\n",
    "    \n",
    "    \n",
    "4. Weather:\n",
    "    - temperature/dewpoint/humidity\n",
    "        * very important on cold days/mornings as the plane will freeze and needs to be unfrozen before it can depart. One should check if morning/winter flights have larger delays than summer flights.\n",
    "        * will fill in one NULL value for temperature, dewpoint, humidity with the value an hour before.       \n",
    "    - wind\n",
    "        * wind_speed correlated to wind_direction and the direction of the landing strip should have an impact on departing airplanes\n",
    "        * wind_gusts could be very important, but the data is 80% missing, maybe because there were no wind gusts.\n",
    "        * One should check whether in the 20% of the cases where we have wind_gusts data there is a correlation with bigger delays.\n",
    "        * will fill all the NULL values for wind with 0\n",
    "    - visibilitity\n",
    "        * From the USA aviation standards: Reported in a four figure group (e.g. 0400 = 400 metres; 8000 = 8 km) up to but excluding 10 km; 9999 = 10km or more; 0000 = less than 50 metres visibility.)\n",
    "        * There are 195 instances in the weather database with under 0.5km visibility, but planes can still take off if there is more than 100m of visibility. Under 100m of visibility happened only 16 instances.\n",
    "        * One should check if on the 379 instances, there are significant delays.\n",
    "    - precipitation\n",
    "        * relevant if temperature is freezing (hence probably snow) and landing strip needs to be cleared before take off/landing or if rain is intense\n",
    "    - pressure \n",
    "        * is more or less irrelevant as its variations are very small\n",
    "    - hours\n",
    "        * need to multiply with 100 to be able to compare with data in flights\n",
    "    "
   ]
  },
  {
   "cell_type": "code",
   "execution_count": 216,
   "metadata": {},
   "outputs": [],
   "source": [
    "flights.dropna(inplace=True)\n",
    "flights.departure = flights.departure.astype(int)\n",
    "flights.arrival = flights.arrival.astype(int)\n",
    "flights = flights.replace('ERW','EWR')\n",
    "flights['hour'] = flights['departure'].apply(lambda x : int((x/100))*100)"
   ]
  },
  {
   "cell_type": "code",
   "execution_count": 217,
   "metadata": {},
   "outputs": [],
   "source": [
    "weather.loc[:,'hour'] *= 100\n",
    "weather = weather.fillna(0.0)"
   ]
  },
  {
   "cell_type": "code",
   "execution_count": 218,
   "metadata": {},
   "outputs": [],
   "source": [
    "data = pd.merge(pd.merge(flights, airports, how='left', left_on='origin', right_on='FAA'), airports, how='left', left_on = 'destination', right_on='FAA')"
   ]
  },
  {
   "cell_type": "code",
   "execution_count": 219,
   "metadata": {},
   "outputs": [],
   "source": [
    "df = data[data['year'] == 2013]\n",
    "wf = weather[weather['year'] == 2013]"
   ]
  },
  {
   "cell_type": "code",
   "execution_count": 220,
   "metadata": {},
   "outputs": [],
   "source": [
    "working = pd.merge(df, wf, how = 'left', on=['origin', 'year', 'month', 'day', 'hour'])"
   ]
  },
  {
   "cell_type": "code",
   "execution_count": null,
   "metadata": {},
   "outputs": [],
   "source": []
  }
 ],
 "metadata": {
  "kernelspec": {
   "display_name": "Python 3",
   "language": "python",
   "name": "python3"
  },
  "language_info": {
   "codemirror_mode": {
    "name": "ipython",
    "version": 3
   },
   "file_extension": ".py",
   "mimetype": "text/x-python",
   "name": "python",
   "nbconvert_exporter": "python",
   "pygments_lexer": "ipython3",
   "version": "3.7.5"
  }
 },
 "nbformat": 4,
 "nbformat_minor": 2
}
